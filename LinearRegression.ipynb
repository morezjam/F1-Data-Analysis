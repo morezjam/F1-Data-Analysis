{
 "cells": [
  {
   "cell_type": "code",
   "execution_count": 1,
   "id": "cc0bf5d4",
   "metadata": {},
   "outputs": [],
   "source": [
    "import numpy as np\n",
    "from numpy.linalg import det, inv"
   ]
  },
  {
   "cell_type": "code",
   "execution_count": 2,
   "id": "6c4dc20d",
   "metadata": {},
   "outputs": [],
   "source": [
    "def linear_reg(X,y):\n",
    "    M = np.zeros((len(X), len(X[0]) + 1))\n",
    "    M[:, :len(X[0])] = X\n",
    "    M[:, len(M[0])-1] = 1\n",
    "    res = np.dot(np.transpose(M), M)\n",
    "    res = inv(res)\n",
    "    y_ = np.dot(np.transpose(M), y)\n",
    "    res = np.dot(res, y_)\n",
    "    return res"
   ]
  },
  {
   "cell_type": "code",
   "execution_count": 254,
   "id": "9976a101",
   "metadata": {},
   "outputs": [
    {
     "data": {
      "text/plain": [
       "array([[0.8],\n",
       "       [9.2]])"
      ]
     },
     "execution_count": 254,
     "metadata": {},
     "output_type": "execute_result"
    }
   ],
   "source": [
    "X = np.transpose(np.array([[43,44,45,46,47]]))\n",
    "y = np.transpose(np.array([[41,45,49,47,44]]))\n",
    "linear_reg(X,y)"
   ]
  },
  {
   "cell_type": "code",
   "execution_count": 255,
   "id": "954d9503",
   "metadata": {},
   "outputs": [],
   "source": [
    "def squared_error(y1,y2):\n",
    "    return (y1-y2)**2\n",
    "\n",
    "def mean(x):\n",
    "    m = 0.0\n",
    "    n = len(x)\n",
    "    for i in range(0,n):\n",
    "        m = m + x[i]\n",
    "    return m/n\n",
    "\n",
    "def R2(yp,y):\n",
    "    n = len(y)\n",
    "    mean_y = mean(y)\n",
    "    s = 0.0\n",
    "    s2 = 0.0\n",
    "    for i in range(0, n):\n",
    "        s = s + squared_error(yp[i], y[i])\n",
    "        s2 = s2 + (y[i] - mean_y)**2\n",
    "    return s/s2\n",
    "\n",
    "def MSE(yp,y):\n",
    "    n= len(y)\n",
    "    summ = 0.0\n",
    "    for i in range(0,n):\n",
    "        summ = summ + squared_error(yp[i], y[i])\n",
    "    return summ/n"
   ]
  },
  {
   "cell_type": "code",
   "execution_count": 256,
   "id": "03f9a584",
   "metadata": {},
   "outputs": [],
   "source": [
    "def scale(A):\n",
    "    s = []\n",
    "    for i in range(0,len(A)):\n",
    "        s.append( (A[i] - min(A))/(max(A) - min(A)) )\n",
    "    return s"
   ]
  },
  {
   "cell_type": "code",
   "execution_count": 251,
   "id": "4dff0fcb",
   "metadata": {},
   "outputs": [
    {
     "name": "stdout",
     "output_type": "stream",
     "text": [
      "6.079999999999986\n",
      "0.8260869565217372\n"
     ]
    }
   ],
   "source": [
    "def f(x):\n",
    "    return 0.8 * x + 9.2\n",
    "\n",
    "y = [41,45,49,47,44]\n",
    "u = [43,44,45,46,47]\n",
    "yp = []\n",
    "\n",
    "for i in range(0,len(u)):\n",
    "    yp.append(f(u[i]))\n",
    "print(MSE(yp,y))\n",
    "print(R2(yp,y))"
   ]
  },
  {
   "cell_type": "code",
   "execution_count": null,
   "id": "469d7931",
   "metadata": {},
   "outputs": [],
   "source": []
  }
 ],
 "metadata": {
  "kernelspec": {
   "display_name": "Python 3",
   "language": "python",
   "name": "python3"
  },
  "language_info": {
   "codemirror_mode": {
    "name": "ipython",
    "version": 3
   },
   "file_extension": ".py",
   "mimetype": "text/x-python",
   "name": "python",
   "nbconvert_exporter": "python",
   "pygments_lexer": "ipython3",
   "version": "3.8.8"
  }
 },
 "nbformat": 4,
 "nbformat_minor": 5
}
